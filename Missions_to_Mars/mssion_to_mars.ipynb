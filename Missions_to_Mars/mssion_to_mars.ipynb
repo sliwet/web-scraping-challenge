{
 "cells": [
  {
   "cell_type": "markdown",
   "metadata": {},
   "source": [
    "# HW: Mission to Mars"
   ]
  },
  {
   "cell_type": "code",
   "execution_count": null,
   "metadata": {},
   "outputs": [],
   "source": [
    "from splinter import Browser\n",
    "from bs4 import BeautifulSoup\n",
    "import time"
   ]
  },
  {
   "cell_type": "code",
   "execution_count": 2,
   "metadata": {},
   "outputs": [],
   "source": [
    "# I am saving the output to a text file because it is easy to work with a text file\n",
    "textfilename = '_temporary.txt'\n",
    "\n",
    "def savetofile(filename,contents):\n",
    "    file = open(filename,\"w\",encoding=\"utf-8\")\n",
    "    file.write(contents)\n",
    "    file.close()\n",
    "    \n",
    "executable_path = {'executable_path': 'chromedriver.exe'}\n",
    "browser = Browser('chrome', **executable_path, headless=False)"
   ]
  },
  {
   "cell_type": "code",
   "execution_count": 11,
   "metadata": {},
   "outputs": [],
   "source": [
    "browser.quit()"
   ]
  },
  {
   "cell_type": "markdown",
   "metadata": {},
   "source": [
    "## NASA Mars News"
   ]
  },
  {
   "cell_type": "code",
   "execution_count": 3,
   "metadata": {},
   "outputs": [],
   "source": [
    "url = 'https://mars.nasa.gov/news/'"
   ]
  },
  {
   "cell_type": "code",
   "execution_count": 4,
   "metadata": {},
   "outputs": [],
   "source": [
    "browser.visit(url)\n",
    "time.sleep(3)\n",
    "html = browser.html\n",
    "soup = BeautifulSoup(html, 'html.parser')\n",
    "savetofile(textfilename,soup.prettify())"
   ]
  },
  {
   "cell_type": "code",
   "execution_count": 5,
   "metadata": {},
   "outputs": [],
   "source": [
    "slides = soup.find_all('li', class_='slide')"
   ]
  },
  {
   "cell_type": "code",
   "execution_count": 6,
   "metadata": {},
   "outputs": [],
   "source": [
    "savetofile(textfilename,slides[0].prettify())"
   ]
  },
  {
   "cell_type": "code",
   "execution_count": 7,
   "metadata": {},
   "outputs": [
    {
     "data": {
      "text/plain": [
       "\"Mars InSight's Mole Has Partially Backed Out of Its Hole\""
      ]
     },
     "execution_count": 7,
     "metadata": {},
     "output_type": "execute_result"
    }
   ],
   "source": [
    "content_title = slides[0].find('div', class_ = 'content_title')\n",
    "news_title = content_title.text.strip()\n",
    "news_title"
   ]
  },
  {
   "cell_type": "code",
   "execution_count": 8,
   "metadata": {},
   "outputs": [
    {
     "data": {
      "text/plain": [
       "\"After making progress over the past several weeks digging into the surface of Mars, InSight's mole has backed about halfway out of its hole this past weekend.\""
      ]
     },
     "execution_count": 8,
     "metadata": {},
     "output_type": "execute_result"
    }
   ],
   "source": [
    "article_teaser_body = slides[0].find('div', class_ = 'article_teaser_body')\n",
    "news_p = article_teaser_body.text.strip()\n",
    "news_p"
   ]
  },
  {
   "cell_type": "markdown",
   "metadata": {},
   "source": [
    "## JPL Mars Space Images"
   ]
  },
  {
   "cell_type": "code",
   "execution_count": 9,
   "metadata": {},
   "outputs": [],
   "source": [
    "# url = 'https://www.jpl.nasa.gov/spaceimages/?search=&category=Mars'\n",
    "base_url = 'https://www.jpl.nasa.gov'\n",
    "url = base_url + '/spaceimages/?search=&category=Mars'"
   ]
  },
  {
   "cell_type": "code",
   "execution_count": 10,
   "metadata": {},
   "outputs": [],
   "source": [
    "browser.visit(url)\n",
    "time.sleep(3)\n",
    "html = browser.html\n",
    "soup = BeautifulSoup(html, 'html.parser')\n",
    "savetofile(textfilename,soup.prettify())"
   ]
  },
  {
   "cell_type": "code",
   "execution_count": 11,
   "metadata": {},
   "outputs": [
    {
     "data": {
      "text/plain": [
       "'https://www.jpl.nasa.gov/spaceimages/images/mediumsize/PIA17845_ip.jpg'"
      ]
     },
     "execution_count": 11,
     "metadata": {},
     "output_type": "execute_result"
    }
   ],
   "source": [
    "# slides = soup.find_all('li', class_='slide')\n",
    "# savetofile(textfilename,slides[0].prettify())\n",
    "# featured_image_url = base_url + slides[0].find('a')['data-fancybox-href']\n",
    "# featured_image_url\n",
    "featured_image_url = base_url + soup.find('a',class_='button fancybox')['data-fancybox-href']\n",
    "featured_image_url"
   ]
  },
  {
   "cell_type": "markdown",
   "metadata": {},
   "source": [
    "## Mars Weather"
   ]
  },
  {
   "cell_type": "code",
   "execution_count": 3,
   "metadata": {},
   "outputs": [],
   "source": [
    "url = 'https://twitter.com/marswxreport?lang=en'"
   ]
  },
  {
   "cell_type": "code",
   "execution_count": 4,
   "metadata": {},
   "outputs": [],
   "source": [
    "browser.visit(url)\n",
    "time.sleep(3)\n",
    "html = browser.html\n",
    "soup = BeautifulSoup(html, 'html.parser')\n",
    "savetofile(textfilename,soup.prettify())"
   ]
  },
  {
   "cell_type": "code",
   "execution_count": 5,
   "metadata": {},
   "outputs": [],
   "source": [
    "streamitems = soup.find_all('li', class_='js-stream-item stream-item stream-item')"
   ]
  },
  {
   "cell_type": "code",
   "execution_count": 10,
   "metadata": {},
   "outputs": [
    {
     "data": {
      "text/plain": [
       "'InSight sol 334 (2019-11-04) low -100.0ºC (-148.1ºF) high -23.8ºC (-10.8ºF), winds from the SSW at 5.1 m/s (11.4 mph) gusting to 19.9 m/s (44.4 mph), pressure at 7.00 hPa'"
      ]
     },
     "execution_count": 10,
     "metadata": {},
     "output_type": "execute_result"
    }
   ],
   "source": [
    "i = 0\n",
    "while streamitems[i].find('strong',class_='fullname').text.strip() != 'Mars Weather':\n",
    "    i = i+1\n",
    "    \n",
    "mars_weather = streamitems[i].find('div',class_='js-tweet-text-container')\n",
    "temp = mars_weather.find('a').text\n",
    "mars_weather = mars_weather.text\n",
    "if len(temp) > 0:\n",
    "    mars_weather = mars_weather[:(len(mars_weather) - len(temp) - 1)].strip()\n",
    "mars_weather = mars_weather.replace(\"\\n\", \", \")\n",
    "mars_weather"
   ]
  },
  {
   "cell_type": "code",
   "execution_count": 9,
   "metadata": {},
   "outputs": [
    {
     "data": {
      "text/plain": [
       "<div class=\"js-tweet-text-container\">\n",
       "<p class=\"TweetTextSize TweetTextSize--normal js-tweet-text tweet-text\" data-aria-label-part=\"0\" lang=\"en\">InSight sol 334 (2019-11-04) low -100.0ºC (-148.1ºF) high -23.8ºC (-10.8ºF)\n",
       "winds from the SSW at 5.1 m/s (11.4 mph) gusting to 19.9 m/s (44.4 mph)\n",
       "pressure at 7.00 hPa<a class=\"twitter-timeline-link u-hidden\" data-pre-embedded=\"true\" dir=\"ltr\" href=\"https://t.co/D4EX1MROay\">pic.twitter.com/D4EX1MROay</a></p>\n",
       "</div>"
      ]
     },
     "execution_count": 9,
     "metadata": {},
     "output_type": "execute_result"
    }
   ],
   "source": [
    "streamitems[i].find('div',class_='js-tweet-text-container')"
   ]
  },
  {
   "cell_type": "markdown",
   "metadata": {},
   "source": [
    "## Mars Facts"
   ]
  },
  {
   "cell_type": "code",
   "execution_count": 19,
   "metadata": {},
   "outputs": [],
   "source": [
    "import pandas as pd\n",
    "url = 'https://space-facts.com/mars/'"
   ]
  },
  {
   "cell_type": "code",
   "execution_count": 27,
   "metadata": {},
   "outputs": [
    {
     "name": "stdout",
     "output_type": "stream",
     "text": [
      "                                              Value\n",
      "Description                                        \n",
      "Equatorial Diameter:                       6,792 km\n",
      "Polar Diameter:                            6,752 km\n",
      "Mass:                 6.39 × 10^23 kg (0.11 Earths)\n",
      "Moons:                          2 (Phobos & Deimos)\n",
      "Orbit Distance:            227,943,824 km (1.38 AU)\n",
      "Orbit Period:                  687 days (1.9 years)\n",
      "Surface Temperature:                   -87 to -5 °C\n",
      "First Record:                     2nd millennium BC\n",
      "Recorded By:                   Egyptian astronomers\n"
     ]
    }
   ],
   "source": [
    "dfs = pd.read_html(url)\n",
    "for df in dfs:\n",
    "    try:\n",
    "        df = df.rename(columns={0:\"Description\", 1:\"Value\"})\n",
    "        df = df.set_index(\"Description\")\n",
    "        marsfacts_html = df.to_html().replace('\\n', '')\n",
    "        df.to_html('marsfacts.html') # to save to a file to test\n",
    "        print(df)\n",
    "        break\n",
    "    except:\n",
    "        continue"
   ]
  },
  {
   "cell_type": "markdown",
   "metadata": {},
   "source": [
    "## Mars Hemispheres"
   ]
  },
  {
   "cell_type": "code",
   "execution_count": 3,
   "metadata": {},
   "outputs": [],
   "source": [
    "base_url = 'https://astrogeology.usgs.gov'\n",
    "url = base_url + '/search/results?q=hemisphere+enhanced&k1=target&v1=Mars'"
   ]
  },
  {
   "cell_type": "code",
   "execution_count": 4,
   "metadata": {},
   "outputs": [],
   "source": [
    "browser.visit(url)\n",
    "html = browser.html\n",
    "soup = BeautifulSoup(html, 'html.parser')\n",
    "savetofile(textfilename,soup.prettify())"
   ]
  },
  {
   "cell_type": "code",
   "execution_count": 5,
   "metadata": {},
   "outputs": [],
   "source": [
    "items = soup.find_all('div', class_='item')\n",
    "savetofile(textfilename,items[0].prettify())"
   ]
  },
  {
   "cell_type": "code",
   "execution_count": 6,
   "metadata": {},
   "outputs": [
    {
     "name": "stdout",
     "output_type": "stream",
     "text": [
      "['https://astrogeology.usgs.gov/search/map/Mars/Viking/cerberus_enhanced', 'https://astrogeology.usgs.gov/search/map/Mars/Viking/schiaparelli_enhanced', 'https://astrogeology.usgs.gov/search/map/Mars/Viking/syrtis_major_enhanced', 'https://astrogeology.usgs.gov/search/map/Mars/Viking/valles_marineris_enhanced']\n"
     ]
    },
    {
     "data": {
      "text/plain": [
       "['Cerberus Hemisphere Enhanced',\n",
       " 'Schiaparelli Hemisphere Enhanced',\n",
       " 'Syrtis Major Hemisphere Enhanced',\n",
       " 'Valles Marineris Hemisphere Enhanced']"
      ]
     },
     "execution_count": 6,
     "metadata": {},
     "output_type": "execute_result"
    }
   ],
   "source": [
    "urls = []\n",
    "titles = []\n",
    "for item in items:\n",
    "    urls.append(base_url + item.find('a')['href'])\n",
    "    titles.append(item.find('h3').text.strip())\n",
    "print(urls)\n",
    "titles"
   ]
  },
  {
   "cell_type": "code",
   "execution_count": 12,
   "metadata": {},
   "outputs": [
    {
     "data": {
      "text/plain": [
       "'https://astrogeology.usgs.gov/cache/images/cfa62af2557222a02478f1fcd781d445_cerberus_enhanced.tif_full.jpg'"
      ]
     },
     "execution_count": 12,
     "metadata": {},
     "output_type": "execute_result"
    }
   ],
   "source": [
    "browser.visit(urls[0])\n",
    "html = browser.html\n",
    "soup = BeautifulSoup(html, 'html.parser')\n",
    "savetofile(textfilename,soup.prettify())\n",
    "oneurl = base_url+soup.find('img',class_='wide-image')['src']\n",
    "oneurl"
   ]
  },
  {
   "cell_type": "code",
   "execution_count": 13,
   "metadata": {},
   "outputs": [
    {
     "data": {
      "text/plain": [
       "['https://astrogeology.usgs.gov/cache/images/cfa62af2557222a02478f1fcd781d445_cerberus_enhanced.tif_full.jpg',\n",
       " 'https://astrogeology.usgs.gov/cache/images/3cdd1cbf5e0813bba925c9030d13b62e_schiaparelli_enhanced.tif_full.jpg',\n",
       " 'https://astrogeology.usgs.gov/cache/images/ae209b4e408bb6c3e67b6af38168cf28_syrtis_major_enhanced.tif_full.jpg',\n",
       " 'https://astrogeology.usgs.gov/cache/images/7cf2da4bf549ed01c17f206327be4db7_valles_marineris_enhanced.tif_full.jpg']"
      ]
     },
     "execution_count": 13,
     "metadata": {},
     "output_type": "execute_result"
    }
   ],
   "source": [
    "img_urls = []\n",
    "for oneurl in urls:\n",
    "    browser.visit(oneurl)\n",
    "    html = browser.html\n",
    "    soup = BeautifulSoup(html, 'html.parser')\n",
    "#     savetofile(textfilename,soup.prettify())\n",
    "    oneurl = base_url+soup.find('img',class_='wide-image')['src']\n",
    "    img_urls.append(oneurl)\n",
    "    \n",
    "img_urls"
   ]
  },
  {
   "cell_type": "code",
   "execution_count": 14,
   "metadata": {},
   "outputs": [
    {
     "data": {
      "text/plain": [
       "[{'title': 'Cerberus Hemisphere Enhanced',\n",
       "  'img_url': 'https://astrogeology.usgs.gov/cache/images/cfa62af2557222a02478f1fcd781d445_cerberus_enhanced.tif_full.jpg'},\n",
       " {'title': 'Schiaparelli Hemisphere Enhanced',\n",
       "  'img_url': 'https://astrogeology.usgs.gov/cache/images/3cdd1cbf5e0813bba925c9030d13b62e_schiaparelli_enhanced.tif_full.jpg'},\n",
       " {'title': 'Syrtis Major Hemisphere Enhanced',\n",
       "  'img_url': 'https://astrogeology.usgs.gov/cache/images/ae209b4e408bb6c3e67b6af38168cf28_syrtis_major_enhanced.tif_full.jpg'},\n",
       " {'title': 'Valles Marineris Hemisphere Enhanced',\n",
       "  'img_url': 'https://astrogeology.usgs.gov/cache/images/7cf2da4bf549ed01c17f206327be4db7_valles_marineris_enhanced.tif_full.jpg'}]"
      ]
     },
     "execution_count": 14,
     "metadata": {},
     "output_type": "execute_result"
    }
   ],
   "source": [
    "hemisphere_image_urls = []\n",
    "\n",
    "for i in range(len(titles)):\n",
    "    hemisphere_image_urls.append({'title':titles[i],'img_url':img_urls[i]})\n",
    "\n",
    "hemisphere_image_urls"
   ]
  },
  {
   "cell_type": "code",
   "execution_count": 15,
   "metadata": {},
   "outputs": [
    {
     "name": "stdout",
     "output_type": "stream",
     "text": [
      "Cerberus Hemisphere Enhanced\n",
      "https://astrogeology.usgs.gov/cache/images/cfa62af2557222a02478f1fcd781d445_cerberus_enhanced.tif_full.jpg\n",
      "\n",
      "Schiaparelli Hemisphere Enhanced\n",
      "https://astrogeology.usgs.gov/cache/images/3cdd1cbf5e0813bba925c9030d13b62e_schiaparelli_enhanced.tif_full.jpg\n",
      "\n",
      "Syrtis Major Hemisphere Enhanced\n",
      "https://astrogeology.usgs.gov/cache/images/ae209b4e408bb6c3e67b6af38168cf28_syrtis_major_enhanced.tif_full.jpg\n",
      "\n",
      "Valles Marineris Hemisphere Enhanced\n",
      "https://astrogeology.usgs.gov/cache/images/7cf2da4bf549ed01c17f206327be4db7_valles_marineris_enhanced.tif_full.jpg\n",
      "\n"
     ]
    }
   ],
   "source": [
    "for i in range(len(hemisphere_image_urls)):\n",
    "    print(hemisphere_image_urls[i]['title'])\n",
    "    print(hemisphere_image_urls[i]['img_url'] + '\\n')"
   ]
  },
  {
   "cell_type": "markdown",
   "metadata": {},
   "source": [
    "## app.py"
   ]
  },
  {
   "cell_type": "code",
   "execution_count": null,
   "metadata": {},
   "outputs": [],
   "source": [
    "from flask import Flask, render_template, redirect\n",
    "from flask_pymongo import PyMongo\n",
    "import scrape_mars\n",
    "\n",
    "app = Flask(__name__)\n",
    "\n",
    "app.config[\"MONGO_URI\"] = \"mongodb://localhost:27017/mars\"\n",
    "mongo = PyMongo(app)\n",
    "\n",
    "@app.route(\"/\")\n",
    "def index():\n",
    "    marspage = mongo.db.marspages.find_one()\n",
    "    return render_template(\"index.html\", marspage=marspage)\n",
    "\n",
    "@app.route(\"/scrape\")\n",
    "def scraper():\n",
    "    marspages = mongo.db.marspages\n",
    "    marspagedata = scrape_mars.scrape()\n",
    "    marspages.update({}, marspagedata, upsert=True)\n",
    "    return redirect(\"/\", code=302)\n",
    "\n",
    "if __name__ == \"__main__\":\n",
    "    app.run(debug=True)"
   ]
  },
  {
   "cell_type": "markdown",
   "metadata": {},
   "source": [
    "## scrape_mars.py"
   ]
  },
  {
   "cell_type": "code",
   "execution_count": null,
   "metadata": {},
   "outputs": [],
   "source": [
    "from splinter import Browser\n",
    "from bs4 import BeautifulSoup\n",
    "import pandas as pd\n",
    "import time\n",
    "\n",
    "# This is for debugging\n",
    "\n",
    "def savetofile(contents):\n",
    "    file = open('_temporary.txt',\"w\",encoding=\"utf-8\")\n",
    "    file.write(contents)\n",
    "    file.close()\n",
    "\n",
    "\n",
    "def scrape():\n",
    "    executable_path = {\"executable_path\": \"chromedriver\"}\n",
    "    browser = Browser(\"chrome\", **executable_path, headless=False)\n",
    "\n",
    "    # NASA Mars News\n",
    "\n",
    "    url = 'https://mars.nasa.gov/news/'\n",
    "\n",
    "    browser.visit(url)\n",
    "    time.sleep(3)\n",
    "\n",
    "    html = browser.html\n",
    "    soup = BeautifulSoup(html, 'html.parser')\n",
    "\n",
    "    slides = soup.find_all('li', class_='slide')\n",
    "\n",
    "    html = browser.html\n",
    "    soup = BeautifulSoup(html, \"html.parser\")\n",
    "\n",
    "    content_title = slides[0].find('div', class_='content_title')\n",
    "    news_title = content_title.text.strip()\n",
    "\n",
    "    article_teaser_body = slides[0].find('div', class_='article_teaser_body')\n",
    "    news_p = article_teaser_body.text.strip()\n",
    "\n",
    "    # JPL Mars Space Images\n",
    "\n",
    "    base_url = 'https://www.jpl.nasa.gov'\n",
    "    url = base_url + '/spaceimages/?search=&category=Mars'\n",
    "\n",
    "    browser.visit(url)\n",
    "    time.sleep(1)\n",
    "    html = browser.html\n",
    "    soup = BeautifulSoup(html, 'html.parser')\n",
    "\n",
    "    featured_image_url = base_url + soup.find('a',class_='button fancybox')['data-fancybox-href']    \n",
    "\n",
    "    # Mars Weather\n",
    "\n",
    "    url = 'https://twitter.com/marswxreport?lang=en'\n",
    "\n",
    "    browser.visit(url)\n",
    "    time.sleep(1)\n",
    "    html = browser.html\n",
    "    soup = BeautifulSoup(html, 'html.parser')\n",
    "\n",
    "    streamitems = soup.find_all('li', class_='js-stream-item stream-item stream-item')\n",
    "\n",
    "    i = 0\n",
    "    while streamitems[i].find('strong',class_='fullname').text.strip() != 'Mars Weather':\n",
    "        i = i+1\n",
    "        \n",
    "    mars_weather = streamitems[i].find('div',class_='js-tweet-text-container')\n",
    "    temp = mars_weather.find('a').text\n",
    "    mars_weather = mars_weather.text\n",
    "    if len(temp) > 0:\n",
    "        mars_weather = mars_weather[:(len(mars_weather) - len(temp) - 1)].strip()\n",
    "    mars_weather = mars_weather.replace(\"\\n\", \", \")\n",
    "\n",
    "    # Mars facts\n",
    "\n",
    "    url = 'https://space-facts.com/mars/'\n",
    "    browser.visit(url) # not necessary, but added for checking the operation\n",
    "    time.sleep(1)\n",
    "\n",
    "    dfs = pd.read_html(url)\n",
    "    for df in dfs:\n",
    "        try:\n",
    "            df = df.rename(columns={0:\"Description\", 1:\"Value\"})\n",
    "            df = df.set_index(\"Description\")\n",
    "            marsfacts_html = df.to_html().replace('\\n', '')\n",
    "            # df.to_html('marsfacts.html') # to save to a file to test\n",
    "            break\n",
    "        except:\n",
    "            continue\n",
    "\n",
    "    # Mars Hemispheres\n",
    "\n",
    "    base_url = 'https://astrogeology.usgs.gov'\n",
    "    url = base_url + '/search/results?q=hemisphere+enhanced&k1=target&v1=Mars'\n",
    "\n",
    "    browser.visit(url)\n",
    "    time.sleep(1)\n",
    "    html = browser.html\n",
    "    soup = BeautifulSoup(html, 'html.parser')\n",
    "\n",
    "    items = soup.find_all('div', class_='item')\n",
    "\n",
    "    urls = []\n",
    "    titles = []\n",
    "    for item in items:\n",
    "        urls.append(base_url + item.find('a')['href'])\n",
    "        titles.append(item.find('h3').text.strip())\n",
    "\n",
    "    img_urls = []\n",
    "    for oneurl in urls:\n",
    "        browser.visit(oneurl)\n",
    "        time.sleep(1)\n",
    "        html = browser.html\n",
    "        soup = BeautifulSoup(html, 'html.parser')\n",
    "        oneurl = base_url+soup.find('img',class_='wide-image')['src']\n",
    "        img_urls.append(oneurl)\n",
    "\n",
    "    hemisphere_image_urls = []\n",
    "\n",
    "    for i in range(len(titles)):\n",
    "        hemisphere_image_urls.append({'title':titles[i],'img_url':img_urls[i]})\n",
    "\n",
    "    # Assigning scraped data to a page\n",
    "    \n",
    "    marspage = {}\n",
    "    marspage[\"news_title\"] = news_title\n",
    "    marspage[\"news_p\"] = news_p\n",
    "    marspage[\"featured_image_url\"] = featured_image_url\n",
    "    marspage[\"mars_weather\"] = mars_weather\n",
    "    marspage[\"marsfacts_html\"] = marsfacts_html\n",
    "    marspage[\"hemisphere_image_urls\"] = hemisphere_image_urls\n",
    "\n",
    "    return marspage"
   ]
  },
  {
   "cell_type": "markdown",
   "metadata": {},
   "source": [
    "## templates/index.html"
   ]
  },
  {
   "cell_type": "code",
   "execution_count": null,
   "metadata": {},
   "outputs": [],
   "source": [
    "<!DOCTYPE html>\n",
    "<html lang=\"en\">\n",
    "\n",
    "<head>\n",
    "    <meta charset=\"UTF-8\">\n",
    "    <title>Mission to Mars</title>\n",
    "    <link rel=\"stylesheet\" href=\"https://stackpath.bootstrapcdn.com/bootstrap/4.3.1/css/bootstrap.min.css\"\n",
    "        integrity=\"sha384-ggOyR0iXCbMQv3Xipma34MD+dH/1fQ784/j6cY/iJTQUOhcWr7x9JvoRxT2MZw1T\" crossorigin=\"anonymous\">\n",
    "\n",
    "    <script src=\"https://code.jquery.com/jquery-3.3.1.slim.min.js\"\n",
    "        integrity=\"sha384-q8i/X+965DzO0rT7abK41JStQIAqVgRVzpbzo5smXKp4YfRvH+8abtTE1Pi6jizo\"\n",
    "        crossorigin=\"anonymous\"></script>\n",
    "    <script src=\"https://cdnjs.cloudflare.com/ajax/libs/popper.js/1.14.7/umd/popper.min.js\"\n",
    "        integrity=\"sha384-UO2eT0CpHqdSJQ6hJty5KVphtPhzWj9WO1clHTMGa3JDZwrnQq4sF86dIHNDz0W1\"\n",
    "        crossorigin=\"anonymous\"></script>\n",
    "    <script src=\"https://stackpath.bootstrapcdn.com/bootstrap/4.3.1/js/bootstrap.min.js\"\n",
    "        integrity=\"sha384-JjSmVgyd0p3pXB1rRibZUAYoIIy6OrQ6VrjIEaFf/nJGzIxFDsf4x0xIM+B07jRM\"\n",
    "        crossorigin=\"anonymous\"></script>\n",
    "\n",
    "    <style>\n",
    "        h1 {\n",
    "            color: navy;\n",
    "            font-size: 45px;\n",
    "            font-weight: bold;\n",
    "            /* font-style: italic; */\n",
    "            /* text-align:center; */\n",
    "        }\n",
    "\n",
    "        h2 {\n",
    "            /* color:lightcyan; */\n",
    "            font-size: 24px;\n",
    "            text-align: left;\n",
    "        }\n",
    "\n",
    "        h3 {\n",
    "            color: black;\n",
    "            font-size: 18px;\n",
    "            /* text-decoration: underline; */\n",
    "            /* font-style: italic; */\n",
    "            text-align: left;\n",
    "        }\n",
    "\n",
    "        h4 {\n",
    "            color: black;\n",
    "            font-size: 22px;\n",
    "            font-weight: bold;\n",
    "            /* text-decoration: underline; */\n",
    "            /* font-style: italic; */\n",
    "            text-align: center;\n",
    "        }\n",
    "\n",
    "        body {\n",
    "            width: 100%;\n",
    "            min-height: 100%;\n",
    "            background-color: white;\n",
    "        }\n",
    "\n",
    "        img {\n",
    "            width: 100%;\n",
    "        }\n",
    "\n",
    "        .boxborder {\n",
    "            /* background: lightgray; */\n",
    "            padding: 10px;\n",
    "            border: lightgray 2px solid;\n",
    "        }\n",
    "\n",
    "        .boxmargin {\n",
    "            /* background: lightgray; */\n",
    "            padding: 2px;\n",
    "            border: lightgray 2px solid;\n",
    "            margin: 10px 0px 10px 0px;\n",
    "        }\n",
    "    </style>\n",
    "</head>\n",
    "\n",
    "<body>\n",
    "    <div class=\"container\">\n",
    "        <div class=\"jumbotron text-center\">\n",
    "            <h1>Mission to Mars</h1>\n",
    "            <p><a class=\"btn btn-primary btn-lg\" href=\"/scrape\" role=\"button\">Scrape New Data</a></p>\n",
    "        </div>\n",
    "        <div class=\"row\">\n",
    "            <div class=\"col col-12\">\n",
    "                <h2>Latest Mars News</h2>\n",
    "                <h3>{{marspage.news_title}}</h3>\n",
    "                {{marspage.news_p}}\n",
    "            </div>\n",
    "        </div>\n",
    "        <div class=\"row\">\n",
    "            <div class=\"col col-8\">\n",
    "                <h2>Featured Mars Image</h2>\n",
    "                <img src={{marspage.featured_image_url}} alt=\"Featured image\">\n",
    "            </div>\n",
    "            <div class=\"col col-4\">\n",
    "                <div class=\"boxborder\">\n",
    "                    <h3>Current Weather on Mars</h3>\n",
    "                    {{marspage.mars_weather}}\n",
    "                </div>\n",
    "                <br>\n",
    "                <h3>Mars Facts</h3>\n",
    "                {{marspage.marsfacts_html | safe}}\n",
    "            </div>\n",
    "        </div>\n",
    "        <br><br>\n",
    "        <div class=\"row\">\n",
    "            <div class=\"col col-12\">\n",
    "                <h4>Mars Hemisphere</h4>\n",
    "            </div>\n",
    "        </div>\n",
    "        <hr>\n",
    "        <div class=\"row\">\n",
    "            {% for image_url in  marspage.hemisphere_image_urls %}\n",
    "            <div class=\"col col-6\">\n",
    "                <div class=\"boxmargin\">\n",
    "                    <img src={{image_url.img_url}} alt={{image_url.img_url}}>\n",
    "                    <h3>{{image_url.title}}</h3>\n",
    "                </div>\n",
    "            </div>\n",
    "            {% endfor %}\n",
    "        </div>\n",
    "    </div> <!-- End of container -->\n",
    "</body>\n",
    "\n",
    "</html>"
   ]
  },
  {
   "cell_type": "code",
   "execution_count": null,
   "metadata": {},
   "outputs": [],
   "source": []
  }
 ],
 "metadata": {
  "kernelspec": {
   "display_name": "Python 3",
   "language": "python",
   "name": "python3"
  },
  "language_info": {
   "codemirror_mode": {
    "name": "ipython",
    "version": 3
   },
   "file_extension": ".py",
   "mimetype": "text/x-python",
   "name": "python",
   "nbconvert_exporter": "python",
   "pygments_lexer": "ipython3",
   "version": "3.7.3"
  }
 },
 "nbformat": 4,
 "nbformat_minor": 2
}
